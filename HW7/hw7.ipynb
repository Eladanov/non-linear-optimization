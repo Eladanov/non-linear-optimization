{
  "cells": [
    {
      "cell_type": "code",
      "execution_count": null,
      "id": "159c4229-440d-4f25-a754-1c79a278d731",
      "metadata": {
        "id": "159c4229-440d-4f25-a754-1c79a278d731"
      },
      "outputs": [],
      "source": [
        "import numpy as np\n",
        "import numpy.linalg as la\n",
        "from scipy.linalg import solve_triangular"
      ]
    },
    {
      "cell_type": "code",
      "execution_count": null,
      "id": "04aaf42a-ee64-4faf-8b17-7262ba1a6b68",
      "metadata": {
        "id": "04aaf42a-ee64-4faf-8b17-7262ba1a6b68"
      },
      "outputs": [],
      "source": [
        "def newton_hybrid(f, g, h, x0, alpha, beta, epsilon):\n",
        "    x = x0\n",
        "    gval = g(x)\n",
        "    hval = h(x)\n",
        "    i = 0\n",
        "    while la.norm(gval) > epsilon and i < 10000:\n",
        "        i = i + 1\n",
        "        t = 1 # s=1\n",
        "        try:\n",
        "            L = la.cholesky(hval)\n",
        "            w = solve_triangular(L, -gval, lower=True)\n",
        "            d = solve_triangular(L.T, w)\n",
        "            z = 'chelosky method'\n",
        "        except:\n",
        "            d = -gval\n",
        "            z = 'gradient method'\n",
        "        while f(x+t*d) > f(x) + alpha*t*gval@d:\n",
        "            t = beta*t\n",
        "        x = x + t*d\n",
        "        fun_val = f(x)\n",
        "        gval = g(x)\n",
        "        hval = h(x)\n",
        "        print(f\"iter = {i}, method: {z}, norm_grad = {round(la.norm(gval),6)},x = {x}, f(x) = {round(fun_val,6)}\")\n",
        "\n",
        "    return x"
      ]
    },
    {
      "cell_type": "code",
      "execution_count": null,
      "id": "8dd52202-6850-430a-87bb-c48754926f98",
      "metadata": {
        "id": "8dd52202-6850-430a-87bb-c48754926f98"
      },
      "outputs": [],
      "source": [
        "x0 = np.array([2,50], dtype=np.float64)\n",
        "alpha = beta = 0.5\n",
        "epsilon = 10**-5"
      ]
    },
    {
      "cell_type": "code",
      "execution_count": null,
      "id": "71a8e3d5-0025-4f07-aa6a-3418551bc6cc",
      "metadata": {
        "id": "71a8e3d5-0025-4f07-aa6a-3418551bc6cc"
      },
      "outputs": [],
      "source": [
        "def f(x):\n",
        "    return 100*(x[1]-x[0]**2)**2 + (1-x[0])**2"
      ]
    },
    {
      "cell_type": "code",
      "execution_count": null,
      "id": "f5091efe-a42e-4727-a193-ee79a74b2491",
      "metadata": {
        "id": "f5091efe-a42e-4727-a193-ee79a74b2491"
      },
      "outputs": [],
      "source": [
        "def g(x):\n",
        "    return np.array([-400*x[0]*(x[1]-x[0]**2)-2*(1-x[0]), 200*(x[1]-x[0]**2)])"
      ]
    },
    {
      "cell_type": "code",
      "execution_count": null,
      "id": "b734f9c8-6a6d-42db-bf2a-291fc58c3f6f",
      "metadata": {
        "id": "b734f9c8-6a6d-42db-bf2a-291fc58c3f6f"
      },
      "outputs": [],
      "source": [
        "def h(x):\n",
        "    return np.array([[-400*x[1] + 1200*x[0]**2 + 2, -400*x[0]],[-400*x[0],200]])"
      ]
    },
    {
      "cell_type": "code",
      "execution_count": null,
      "id": "0c03a3ce-b8a6-4ea9-9fdb-aebbb17c69fe",
      "metadata": {
        "id": "0c03a3ce-b8a6-4ea9-9fdb-aebbb17c69fe",
        "outputId": "d4e0fffd-801c-41c1-caca-7030f053ee93"
      },
      "outputs": [
        {
          "name": "stdout",
          "output_type": "stream",
          "text": [
            "iter = 1, method: gradient method, norm_grad = 17521.347999,x = [ 6.49194336 48.87695312], f(x) = 4561.638342\n",
            "iter = 2, method: gradient method, norm_grad = 8606.082288,x = [ 6.75850748 48.85640984], f(x) = 1043.755912\n",
            "iter = 3, method: gradient method, norm_grad = 3806.634795,x = [ 6.88946702 48.84670834], f(x) = 225.665091\n",
            "iter = 4, method: gradient method, norm_grad = 1593.366681,x = [ 6.94739835 48.84249096], f(x) = 68.566098\n",
            "iter = 5, method: gradient method, norm_grad = 650.315515,x = [ 6.97164754 48.84073269], f(x) = 41.270998\n",
            "iter = 6, method: gradient method, norm_grad = 262.58755,x = [ 6.9815442  48.84000985], f(x) = 36.74026\n",
            "iter = 7, method: gradient method, norm_grad = 105.56508,x = [ 6.98553978 48.83971062], f(x) = 36.002622\n",
            "iter = 8, method: gradient method, norm_grad = 42.369561,x = [ 6.98714548 48.83958261], f(x) = 35.883472\n",
            "iter = 9, method: gradient method, norm_grad = 17.008363,x = [ 6.98778928 48.83952347], f(x) = 35.86428\n",
            "iter = 10, method: gradient method, norm_grad = 6.86326,x = [ 6.98804688 48.83949196], f(x) = 35.861185\n",
            "iter = 11, method: gradient method, norm_grad = 2.860351,x = [ 6.9881496  48.83947154], f(x) = 35.860678\n",
            "iter = 12, method: gradient method, norm_grad = 1.388389,x = [ 6.98819021 48.83945556], f(x) = 35.860587\n",
            "iter = 13, method: chelosky method, norm_grad = 302.170249,x = [ 6.65103949 44.12729066], f(x) = 33.123125\n",
            "iter = 14, method: chelosky method, norm_grad = 168.499399,x = [ 6.40326444 40.94040297], f(x) = 29.57217\n",
            "iter = 15, method: chelosky method, norm_grad = 189.730526,x = [ 6.19980523 38.36549299], f(x) = 27.557698\n",
            "iter = 16, method: chelosky method, norm_grad = 277.372276,x = [ 5.862558   34.25585056], f(x) = 24.938051\n",
            "iter = 17, method: chelosky method, norm_grad = 104.541071,x = [ 5.65779405 31.96870521], f(x) = 21.870843\n",
            "iter = 18, method: chelosky method, norm_grad = 188.138214,x = [ 5.40966037 29.18189091], f(x) = 20.126298\n",
            "iter = 19, method: chelosky method, norm_grad = 139.785207,x = [ 5.15777897 26.53923967], f(x) = 17.689643\n",
            "iter = 20, method: chelosky method, norm_grad = 187.740514,x = [ 4.85404422 23.46949045], f(x) = 15.704752\n",
            "iter = 21, method: chelosky method, norm_grad = 80.810645,x = [ 4.65590263 21.63816916], f(x) = 13.519759\n",
            "iter = 22, method: chelosky method, norm_grad = 118.386326,x = [ 4.44940154 19.73490133], f(x) = 12.28616\n",
            "iter = 23, method: chelosky method, norm_grad = 117.363992,x = [ 4.19302716 17.51574895], f(x) = 10.627437\n",
            "iter = 24, method: chelosky method, norm_grad = 87.3882,x = [ 3.96730077 15.68852303], f(x) = 9.064489\n",
            "iter = 25, method: chelosky method, norm_grad = 110.424317,x = [ 3.70213782 13.63551308], f(x) = 7.795918\n",
            "iter = 26, method: chelosky method, norm_grad = 50.804565,x = [ 3.52274014 12.37751455], f(x) = 6.467796\n",
            "iter = 27, method: chelosky method, norm_grad = 65.493162,x = [ 3.35312605 11.19859363], f(x) = 5.73845\n",
            "iter = 28, method: chelosky method, norm_grad = 74.498965,x = [3.11715605 9.66097998], f(x) = 4.792397\n",
            "iter = 29, method: chelosky method, norm_grad = 40.170001,x = [2.94270881 8.62910328], f(x) = 3.866727\n",
            "iter = 30, method: chelosky method, norm_grad = 42.323646,x = [2.80563515 7.83758346], f(x) = 3.375953\n",
            "iter = 31, method: chelosky method, norm_grad = 59.288494,x = [2.57417378 6.57279628], f(x) = 2.765044\n",
            "iter = 32, method: chelosky method, norm_grad = 20.816793,x = [2.43979983 5.93456683], f(x) = 2.105627\n",
            "iter = 33, method: chelosky method, norm_grad = 33.745914,x = [2.2836824  5.18180446], f(x) = 1.759402\n",
            "iter = 34, method: chelosky method, norm_grad = 26.480831,x = [2.11653987 4.4518044 ], f(x) = 1.324707\n",
            "iter = 35, method: chelosky method, norm_grad = 24.940136,x = [1.94704164 3.76224152], f(x) = 0.979427\n",
            "iter = 36, method: chelosky method, norm_grad = 16.338522,x = [1.80665452 3.24429203], f(x) = 0.689534\n",
            "iter = 37, method: chelosky method, norm_grad = 19.543225,x = [1.6434206  2.67418594], f(x) = 0.484987\n",
            "iter = 38, method: chelosky method, norm_grad = 7.738329,x = [1.54175932 2.3666868 ], f(x) = 0.304184\n",
            "iter = 39, method: chelosky method, norm_grad = 8.835426,x = [1.45343868 2.09951596], f(x) = 0.222424\n",
            "iter = 40, method: chelosky method, norm_grad = 9.647765,x = [1.32725948 1.74569652], f(x) = 0.132447\n",
            "iter = 41, method: chelosky method, norm_grad = 3.759021,x = [1.24904704 1.55400132], f(x) = 0.065766\n",
            "iter = 42, method: chelosky method, norm_grad = 3.564771,x = [1.19304207 1.41715424], f(x) = 0.041103\n",
            "iter = 43, method: chelosky method, norm_grad = 3.806903,x = [1.10682523 1.21762875], f(x) = 0.016937\n",
            "iter = 44, method: chelosky method, norm_grad = 0.984854,x = [1.06386606 1.1299655 ], f(x) = 0.004419\n",
            "iter = 45, method: chelosky method, norm_grad = 1.017609,x = [1.01721779 1.03255597], f(x) = 0.00077\n",
            "iter = 46, method: chelosky method, norm_grad = 0.074128,x = [1.0052211  1.01032555], f(x) = 2.9e-05\n",
            "iter = 47, method: chelosky method, norm_grad = 0.011782,x = [1.00014608 1.00026643], f(x) = 0.0\n",
            "iter = 48, method: chelosky method, norm_grad = 1.1e-05,x = [1.00000075 1.00000148], f(x) = 0.0\n",
            "iter = 49, method: chelosky method, norm_grad = 0.0,x = [1. 1.], f(x) = 0.0\n"
          ]
        },
        {
          "data": {
            "text/plain": [
              "array([1., 1.])"
            ]
          },
          "execution_count": 7,
          "metadata": {},
          "output_type": "execute_result"
        }
      ],
      "source": [
        "newton_hybrid(f, g, h, x0, alpha, beta, epsilon)"
      ]
    },
    {
      "cell_type": "code",
      "execution_count": null,
      "id": "2eda4b54-92bf-47d2-a87f-e3154d6e5a31",
      "metadata": {
        "id": "2eda4b54-92bf-47d2-a87f-e3154d6e5a31"
      },
      "outputs": [],
      "source": []
    }
  ],
  "metadata": {
    "kernelspec": {
      "display_name": "Python 3 (ipykernel)",
      "language": "python",
      "name": "python3"
    },
    "language_info": {
      "codemirror_mode": {
        "name": "ipython",
        "version": 3
      },
      "file_extension": ".py",
      "mimetype": "text/x-python",
      "name": "python",
      "nbconvert_exporter": "python",
      "pygments_lexer": "ipython3",
      "version": "3.10.6"
    },
    "colab": {
      "provenance": []
    }
  },
  "nbformat": 4,
  "nbformat_minor": 5
}